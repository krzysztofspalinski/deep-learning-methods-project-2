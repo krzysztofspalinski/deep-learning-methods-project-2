{
 "cells": [
  {
   "cell_type": "code",
   "execution_count": 1,
   "metadata": {},
   "outputs": [],
   "source": [
    "import numpy as np\n",
    "import pandas as pd\n",
    "from sklearn.metrics import accuracy_score\n",
    "from matplotlib import pyplot as plt\n",
    "import tensorflow as tf\n",
    "from tensorflow.keras.datasets import cifar10"
   ]
  },
  {
   "cell_type": "code",
   "execution_count": 2,
   "metadata": {},
   "outputs": [],
   "source": [
    "(x_train, y_train),(x_test, y_test) = cifar10.load_data() \n",
    "\n",
    "x_train_orig = x_train / 255\n",
    "x_test = x_test / 255\n",
    "\n",
    "y_train_orig = tf.keras.utils.to_categorical(y_train, num_classes=10)\n",
    "y_test = tf.keras.utils.to_categorical(y_test, num_classes=10)"
   ]
  },
  {
   "cell_type": "code",
   "execution_count": 3,
   "metadata": {},
   "outputs": [],
   "source": [
    "results = {}\n",
    "\n",
    "for model_number in range(1, 4):\n",
    "    results[f'model_{model_number}'] = []\n",
    "    for iteration in range(1, 11):\n",
    "        model_name = f'model_{model_number}_{iteration}'\n",
    "        \n",
    "        model = tf.keras.models.load_model(f'./models/{model_name}.h5')\n",
    "        \n",
    "        y_proba = model.predict(x_test)\n",
    "        y_hat = np.zeros_like(y_proba)\n",
    "        y_hat[np.arange(y_proba.shape[0]), np.argmax(y_proba, axis=1)] = 1\n",
    "\n",
    "        model_acc = accuracy_score(y_hat, y_test)\n",
    "        results[f'model_{model_number}'].append(model_acc)\n",
    "        \n",
    "        model=None"
   ]
  },
  {
   "cell_type": "code",
   "execution_count": 4,
   "metadata": {},
   "outputs": [],
   "source": [
    "results_no_aug = {}\n",
    "\n",
    "for model_number in range(1, 4):\n",
    "    results_no_aug[f'model_{model_number}'] = []\n",
    "    for iteration in range(1, 11):\n",
    "        model_name = f'model_{model_number}_{iteration}'\n",
    "        \n",
    "        model = tf.keras.models.load_model(f'./models/no_aug/{model_name}.h5')\n",
    "        \n",
    "        y_proba = model.predict(x_test)\n",
    "        y_hat = np.zeros_like(y_proba)\n",
    "        y_hat[np.arange(y_proba.shape[0]), np.argmax(y_proba, axis=1)] = 1\n",
    "\n",
    "        model_acc = accuracy_score(y_hat, y_test)\n",
    "        results_no_aug[f'model_{model_number}'].append(model_acc)\n",
    "        \n",
    "        model=None"
   ]
  },
  {
   "cell_type": "code",
   "execution_count": 5,
   "metadata": {},
   "outputs": [
    {
     "data": {
      "text/html": [
       "<div>\n",
       "<style scoped>\n",
       "    .dataframe tbody tr th:only-of-type {\n",
       "        vertical-align: middle;\n",
       "    }\n",
       "\n",
       "    .dataframe tbody tr th {\n",
       "        vertical-align: top;\n",
       "    }\n",
       "\n",
       "    .dataframe thead th {\n",
       "        text-align: right;\n",
       "    }\n",
       "</style>\n",
       "<table border=\"1\" class=\"dataframe\">\n",
       "  <thead>\n",
       "    <tr style=\"text-align: right;\">\n",
       "      <th></th>\n",
       "      <th>model_1</th>\n",
       "      <th>model_2</th>\n",
       "      <th>model_3</th>\n",
       "    </tr>\n",
       "  </thead>\n",
       "  <tbody>\n",
       "    <tr>\n",
       "      <th>0</th>\n",
       "      <td>0.8410</td>\n",
       "      <td>0.8451</td>\n",
       "      <td>0.8819</td>\n",
       "    </tr>\n",
       "    <tr>\n",
       "      <th>1</th>\n",
       "      <td>0.8417</td>\n",
       "      <td>0.8550</td>\n",
       "      <td>0.8743</td>\n",
       "    </tr>\n",
       "    <tr>\n",
       "      <th>2</th>\n",
       "      <td>0.8484</td>\n",
       "      <td>0.8443</td>\n",
       "      <td>0.8580</td>\n",
       "    </tr>\n",
       "    <tr>\n",
       "      <th>3</th>\n",
       "      <td>0.8199</td>\n",
       "      <td>0.8468</td>\n",
       "      <td>0.8747</td>\n",
       "    </tr>\n",
       "    <tr>\n",
       "      <th>4</th>\n",
       "      <td>0.8385</td>\n",
       "      <td>0.8426</td>\n",
       "      <td>0.8396</td>\n",
       "    </tr>\n",
       "    <tr>\n",
       "      <th>5</th>\n",
       "      <td>0.8549</td>\n",
       "      <td>0.8607</td>\n",
       "      <td>0.8756</td>\n",
       "    </tr>\n",
       "    <tr>\n",
       "      <th>6</th>\n",
       "      <td>0.8372</td>\n",
       "      <td>0.8328</td>\n",
       "      <td>0.8741</td>\n",
       "    </tr>\n",
       "    <tr>\n",
       "      <th>7</th>\n",
       "      <td>0.8267</td>\n",
       "      <td>0.8516</td>\n",
       "      <td>0.8750</td>\n",
       "    </tr>\n",
       "    <tr>\n",
       "      <th>8</th>\n",
       "      <td>0.8457</td>\n",
       "      <td>0.8393</td>\n",
       "      <td>0.8768</td>\n",
       "    </tr>\n",
       "    <tr>\n",
       "      <th>9</th>\n",
       "      <td>0.8349</td>\n",
       "      <td>0.8544</td>\n",
       "      <td>0.8673</td>\n",
       "    </tr>\n",
       "  </tbody>\n",
       "</table>\n",
       "</div>"
      ],
      "text/plain": [
       "   model_1  model_2  model_3\n",
       "0   0.8410   0.8451   0.8819\n",
       "1   0.8417   0.8550   0.8743\n",
       "2   0.8484   0.8443   0.8580\n",
       "3   0.8199   0.8468   0.8747\n",
       "4   0.8385   0.8426   0.8396\n",
       "5   0.8549   0.8607   0.8756\n",
       "6   0.8372   0.8328   0.8741\n",
       "7   0.8267   0.8516   0.8750\n",
       "8   0.8457   0.8393   0.8768\n",
       "9   0.8349   0.8544   0.8673"
      ]
     },
     "execution_count": 5,
     "metadata": {},
     "output_type": "execute_result"
    }
   ],
   "source": [
    "resultsDF = pd.DataFrame(results)\n",
    "resultsDF"
   ]
  },
  {
   "cell_type": "code",
   "execution_count": 6,
   "metadata": {},
   "outputs": [
    {
     "data": {
      "text/html": [
       "<div>\n",
       "<style scoped>\n",
       "    .dataframe tbody tr th:only-of-type {\n",
       "        vertical-align: middle;\n",
       "    }\n",
       "\n",
       "    .dataframe tbody tr th {\n",
       "        vertical-align: top;\n",
       "    }\n",
       "\n",
       "    .dataframe thead th {\n",
       "        text-align: right;\n",
       "    }\n",
       "</style>\n",
       "<table border=\"1\" class=\"dataframe\">\n",
       "  <thead>\n",
       "    <tr style=\"text-align: right;\">\n",
       "      <th></th>\n",
       "      <th>model_1</th>\n",
       "      <th>model_2</th>\n",
       "      <th>model_3</th>\n",
       "    </tr>\n",
       "  </thead>\n",
       "  <tbody>\n",
       "    <tr>\n",
       "      <th>0</th>\n",
       "      <td>0.7497</td>\n",
       "      <td>0.7666</td>\n",
       "      <td>0.7702</td>\n",
       "    </tr>\n",
       "    <tr>\n",
       "      <th>1</th>\n",
       "      <td>0.7550</td>\n",
       "      <td>0.7505</td>\n",
       "      <td>0.7877</td>\n",
       "    </tr>\n",
       "    <tr>\n",
       "      <th>2</th>\n",
       "      <td>0.7304</td>\n",
       "      <td>0.7440</td>\n",
       "      <td>0.7816</td>\n",
       "    </tr>\n",
       "    <tr>\n",
       "      <th>3</th>\n",
       "      <td>0.7479</td>\n",
       "      <td>0.7702</td>\n",
       "      <td>0.7768</td>\n",
       "    </tr>\n",
       "    <tr>\n",
       "      <th>4</th>\n",
       "      <td>0.7485</td>\n",
       "      <td>0.7555</td>\n",
       "      <td>0.7943</td>\n",
       "    </tr>\n",
       "    <tr>\n",
       "      <th>5</th>\n",
       "      <td>0.7359</td>\n",
       "      <td>0.7466</td>\n",
       "      <td>0.7954</td>\n",
       "    </tr>\n",
       "    <tr>\n",
       "      <th>6</th>\n",
       "      <td>0.7437</td>\n",
       "      <td>0.7552</td>\n",
       "      <td>0.8010</td>\n",
       "    </tr>\n",
       "    <tr>\n",
       "      <th>7</th>\n",
       "      <td>0.7601</td>\n",
       "      <td>0.7524</td>\n",
       "      <td>0.7678</td>\n",
       "    </tr>\n",
       "    <tr>\n",
       "      <th>8</th>\n",
       "      <td>0.7410</td>\n",
       "      <td>0.7437</td>\n",
       "      <td>0.7742</td>\n",
       "    </tr>\n",
       "    <tr>\n",
       "      <th>9</th>\n",
       "      <td>0.7594</td>\n",
       "      <td>0.7300</td>\n",
       "      <td>0.7988</td>\n",
       "    </tr>\n",
       "  </tbody>\n",
       "</table>\n",
       "</div>"
      ],
      "text/plain": [
       "   model_1  model_2  model_3\n",
       "0   0.7497   0.7666   0.7702\n",
       "1   0.7550   0.7505   0.7877\n",
       "2   0.7304   0.7440   0.7816\n",
       "3   0.7479   0.7702   0.7768\n",
       "4   0.7485   0.7555   0.7943\n",
       "5   0.7359   0.7466   0.7954\n",
       "6   0.7437   0.7552   0.8010\n",
       "7   0.7601   0.7524   0.7678\n",
       "8   0.7410   0.7437   0.7742\n",
       "9   0.7594   0.7300   0.7988"
      ]
     },
     "execution_count": 6,
     "metadata": {},
     "output_type": "execute_result"
    }
   ],
   "source": [
    "resultsDF_no_aug = pd.DataFrame(results_no_aug)\n",
    "resultsDF_no_aug"
   ]
  },
  {
   "cell_type": "code",
   "execution_count": 7,
   "metadata": {},
   "outputs": [],
   "source": [
    "stats = resultsDF.describe()"
   ]
  },
  {
   "cell_type": "code",
   "execution_count": 8,
   "metadata": {},
   "outputs": [],
   "source": [
    "means_aug = np.mean(resultsDF, axis=0).to_numpy()\n",
    "error_aug = np.std(resultsDF, axis=0).to_numpy()"
   ]
  },
  {
   "cell_type": "code",
   "execution_count": 9,
   "metadata": {},
   "outputs": [
    {
     "ename": "NameError",
     "evalue": "name 'means' is not defined",
     "output_type": "error",
     "traceback": [
      "\u001b[0;31m---------------------------------------------------------------------------\u001b[0m",
      "\u001b[0;31mNameError\u001b[0m                                 Traceback (most recent call last)",
      "\u001b[0;32m<ipython-input-9-b897686ab7ea>\u001b[0m in \u001b[0;36m<module>\u001b[0;34m\u001b[0m\n\u001b[1;32m      2\u001b[0m \u001b[0;34m\u001b[0m\u001b[0m\n\u001b[1;32m      3\u001b[0m \u001b[0;34m\u001b[0m\u001b[0m\n\u001b[0;32m----> 4\u001b[0;31m \u001b[0max\u001b[0m\u001b[0;34m.\u001b[0m\u001b[0mbar\u001b[0m\u001b[0;34m(\u001b[0m\u001b[0mnp\u001b[0m\u001b[0;34m.\u001b[0m\u001b[0marange\u001b[0m\u001b[0;34m(\u001b[0m\u001b[0mlen\u001b[0m\u001b[0;34m(\u001b[0m\u001b[0mmeans\u001b[0m\u001b[0;34m)\u001b[0m\u001b[0;34m)\u001b[0m\u001b[0;34m,\u001b[0m \u001b[0mmeans\u001b[0m\u001b[0;34m,\u001b[0m \u001b[0myerr\u001b[0m\u001b[0;34m=\u001b[0m\u001b[0merror\u001b[0m\u001b[0;34m,\u001b[0m \u001b[0mcapsize\u001b[0m\u001b[0;34m=\u001b[0m\u001b[0;36m5\u001b[0m\u001b[0;34m)\u001b[0m\u001b[0;34m\u001b[0m\u001b[0;34m\u001b[0m\u001b[0m\n\u001b[0m\u001b[1;32m      5\u001b[0m \u001b[0max\u001b[0m\u001b[0;34m.\u001b[0m\u001b[0mset_xticks\u001b[0m\u001b[0;34m(\u001b[0m\u001b[0mnp\u001b[0m\u001b[0;34m.\u001b[0m\u001b[0marange\u001b[0m\u001b[0;34m(\u001b[0m\u001b[0mlen\u001b[0m\u001b[0;34m(\u001b[0m\u001b[0mmeans\u001b[0m\u001b[0;34m)\u001b[0m\u001b[0;34m)\u001b[0m\u001b[0;34m)\u001b[0m\u001b[0;34m\u001b[0m\u001b[0;34m\u001b[0m\u001b[0m\n\u001b[1;32m      6\u001b[0m \u001b[0max\u001b[0m\u001b[0;34m.\u001b[0m\u001b[0mset_xticklabels\u001b[0m\u001b[0;34m(\u001b[0m\u001b[0mresultsDF\u001b[0m\u001b[0;34m.\u001b[0m\u001b[0mcolumns\u001b[0m\u001b[0;34m)\u001b[0m\u001b[0;34m\u001b[0m\u001b[0;34m\u001b[0m\u001b[0m\n",
      "\u001b[0;31mNameError\u001b[0m: name 'means' is not defined"
     ]
    },
    {
     "data": {
      "image/png": "[encoded data removed]",
      "text/plain": [
       "<Figure size 432x288 with 1 Axes>"
      ]
     },
     "metadata": {
      "needs_background": "light"
     },
     "output_type": "display_data"
    }
   ],
   "source": [
    "fig, ax = plt.subplots()\n",
    "\n",
    "\n",
    "ax.bar(np.arange(len(means)), means, yerr=error, capsize=5)\n",
    "ax.set_xticks(np.arange(len(means)))\n",
    "ax.set_xticklabels(resultsDF.columns)\n",
    "plt.ylim(0.8, 0.9)\n",
    "\n",
    "ax.yaxis.grid(True)"
   ]
  },
  {
   "cell_type": "code",
   "execution_count": 22,
   "metadata": {},
   "outputs": [
    {
     "data": {
      "image/png": "[encoded data removed]",
      "text/plain": [
       "<Figure size 720x432 with 1 Axes>"
      ]
     },
     "metadata": {
      "needs_background": "light"
     },
     "output_type": "display_data"
    }
   ],
   "source": [
    "labels = ['Architecture 1', 'Architecture 2', 'Architecture 3']\n",
    "\n",
    "\n",
    "means_no_aug = np.mean(resultsDF_no_aug, axis=0).to_numpy()\n",
    "error_no_aug = np.std(resultsDF_no_aug, axis=0).to_numpy()\n",
    "\n",
    "means_aug = np.mean(resultsDF, axis=0).to_numpy()\n",
    "error_aug = np.std(resultsDF, axis=0).to_numpy()\n",
    "\n",
    "label_location = np.arange(len(labels))  \n",
    "width = 0.20  \n",
    "\n",
    "fig, ax = plt.subplots(figsize=(10,6))\n",
    "\n",
    "rects1 = ax.bar(label_location - width/2,\n",
    "                means_no_aug, width, label='No augmentation',\n",
    "                yerr=error_no_aug, capsize=4)\n",
    "rects2 = ax.bar(label_location + width/2,\n",
    "                means_aug, width, label='With augmentation',\n",
    "                yerr=error_aug, capsize=4)\n",
    "\n",
    "ax.set_ylabel('Test set accuracy', fontsize=16)\n",
    "ax.set_xticks(label_location)\n",
    "ax.set_xticklabels(labels, fontsize=14)\n",
    "ax.legend(fontsize=14, loc='lower right', framealpha=1)\n",
    "\n",
    "plt.ylim(0.5, 0.9)\n",
    "\n",
    "ax.yaxis.grid(True)\n",
    "\n",
    "fig.tight_layout()\n",
    "\n",
    "plt.savefig('results_plain_cnn.png', bbox_inches='tight')\n",
    "plt.show()"
   ]
  },
  {
   "cell_type": "code",
   "execution_count": 38,
   "metadata": {},
   "outputs": [],
   "source": [
    "to_latex = resultsDF_no_aug.describe().T[['mean', 'std']]"
   ]
  },
  {
   "cell_type": "code",
   "execution_count": 39,
   "metadata": {},
   "outputs": [],
   "source": [
    "to_latex[['mean_aug', 'std_aug']] = resultsDF.describe().T[['mean', 'std']]"
   ]
  },
  {
   "cell_type": "code",
   "execution_count": 40,
   "metadata": {},
   "outputs": [
    {
     "data": {
      "text/html": [
       "<div>\n",
       "<style scoped>\n",
       "    .dataframe tbody tr th:only-of-type {\n",
       "        vertical-align: middle;\n",
       "    }\n",
       "\n",
       "    .dataframe tbody tr th {\n",
       "        vertical-align: top;\n",
       "    }\n",
       "\n",
       "    .dataframe thead th {\n",
       "        text-align: right;\n",
       "    }\n",
       "</style>\n",
       "<table border=\"1\" class=\"dataframe\">\n",
       "  <thead>\n",
       "    <tr style=\"text-align: right;\">\n",
       "      <th></th>\n",
       "      <th>mean</th>\n",
       "      <th>std</th>\n",
       "      <th>mean_aug</th>\n",
       "      <th>std_aug</th>\n",
       "    </tr>\n",
       "  </thead>\n",
       "  <tbody>\n",
       "    <tr>\n",
       "      <th>model_1</th>\n",
       "      <td>0.74716</td>\n",
       "      <td>0.009690</td>\n",
       "      <td>0.83889</td>\n",
       "      <td>0.010185</td>\n",
       "    </tr>\n",
       "    <tr>\n",
       "      <th>model_2</th>\n",
       "      <td>0.75147</td>\n",
       "      <td>0.011607</td>\n",
       "      <td>0.84726</td>\n",
       "      <td>0.008288</td>\n",
       "    </tr>\n",
       "    <tr>\n",
       "      <th>model_3</th>\n",
       "      <td>0.78478</td>\n",
       "      <td>0.012285</td>\n",
       "      <td>0.86973</td>\n",
       "      <td>0.012366</td>\n",
       "    </tr>\n",
       "  </tbody>\n",
       "</table>\n",
       "</div>"
      ],
      "text/plain": [
       "            mean       std  mean_aug   std_aug\n",
       "model_1  0.74716  0.009690   0.83889  0.010185\n",
       "model_2  0.75147  0.011607   0.84726  0.008288\n",
       "model_3  0.78478  0.012285   0.86973  0.012366"
      ]
     },
     "execution_count": 40,
     "metadata": {},
     "output_type": "execute_result"
    }
   ],
   "source": [
    "to_latex"
   ]
  },
  {
   "cell_type": "code",
   "execution_count": 41,
   "metadata": {},
   "outputs": [
    {
     "name": "stdout",
     "output_type": "stream",
     "text": [
      "\\begin{tabular}{lrrrr}\n",
      "\\toprule\n",
      "{} &     mean &       std &  mean\\_aug &   std\\_aug \\\\\n",
      "\\midrule\n",
      "model\\_1 &  0.74716 &  0.009690 &   0.83889 &  0.010185 \\\\\n",
      "model\\_2 &  0.75147 &  0.011607 &   0.84726 &  0.008288 \\\\\n",
      "model\\_3 &  0.78478 &  0.012285 &   0.86973 &  0.012366 \\\\\n",
      "\\bottomrule\n",
      "\\end{tabular}\n",
      "\n"
     ]
    }
   ],
   "source": [
    "print(to_latex.to_latex())"
   ]
  },
  {
   "cell_type": "code",
   "execution_count": 3,
   "metadata": {},
   "outputs": [],
   "source": [
    "import numpy as np"
   ]
  },
  {
   "cell_type": "code",
   "execution_count": 6,
   "metadata": {},
   "outputs": [],
   "source": [
    "A = np.zeros((2, 3))"
   ]
  },
  {
   "cell_type": "code",
   "execution_count": 7,
   "metadata": {},
   "outputs": [
    {
     "data": {
      "text/plain": [
       "array([[ 0.02508829,  0.0278974 ,  0.04737437],\n",
       "       [ 0.01625296, -0.00878061,  0.02035244]])"
      ]
     },
     "execution_count": 7,
     "metadata": {},
     "output_type": "execute_result"
    }
   ],
   "source": [
    "np.random.uniform(-0.05, 0.05, A.shape)"
   ]
  },
  {
   "cell_type": "code",
   "execution_count": null,
   "metadata": {},
   "outputs": [],
   "source": []
  }
 ],
 "metadata": {
  "kernelspec": {
   "display_name": "Python (ml-gpu)",
   "language": "python",
   "name": "ml-gpu"
  },
  "language_info": {
   "codemirror_mode": {
    "name": "ipython",
    "version": 3
   },
   "file_extension": ".py",
   "mimetype": "text/x-python",
   "name": "python",
   "nbconvert_exporter": "python",
   "pygments_lexer": "ipython3",
   "version": "3.7.7"
  }
 },
 "nbformat": 4,
 "nbformat_minor": 4
}
